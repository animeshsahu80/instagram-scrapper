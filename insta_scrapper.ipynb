{
 "cells": [
  {
   "cell_type": "code",
   "execution_count": 316,
   "metadata": {},
   "outputs": [
    {
     "data": {
      "text/plain": [
       "\"\\nimport getpass\\npass=getpass.getpass('enter your password: ')\\n\""
      ]
     },
     "execution_count": 316,
     "metadata": {},
     "output_type": "execute_result"
    }
   ],
   "source": [
    "'''\n",
    "import getpass\n",
    "pass=getpass.getpass('enter your password: ')\n",
    "'''"
   ]
  },
  {
   "cell_type": "code",
   "execution_count": 331,
   "metadata": {},
   "outputs": [],
   "source": [
    "from conf import INSTA_PASS,INSTA_USER,BASE_DIR\n",
    "from selenium import webdriver\n",
    "import os\n",
    "import time\n",
    "from selenium.webdriver.common.by import By\n",
    "from selenium.webdriver.support.ui import WebDriverWait\n",
    "from selenium.webdriver.support import expected_conditions as EC\n",
    "from selenium.webdriver.common.keys import Keys\n",
    "import requests\n",
    "import requests_html\n",
    "from conf import BASE_DIR\n",
    "from urllib.parse import urlparse"
   ]
  },
  {
   "cell_type": "code",
   "execution_count": 332,
   "metadata": {},
   "outputs": [],
   "source": [
    "source_path=os.path.join(BASE_DIR,'chromedriver')\n",
    "browser=webdriver.Chrome(source_path)\n",
    "url='https://instagram.com'\n",
    "browser.get(url)"
   ]
  },
  {
   "cell_type": "markdown",
   "metadata": {},
   "source": [
    "### Typing username and password and logging in"
   ]
  },
  {
   "cell_type": "code",
   "execution_count": 333,
   "metadata": {},
   "outputs": [],
   "source": [
    "time.sleep(2)\n",
    "search_element=browser.find_element_by_name('username') #since the name of search area element in tag is username\n",
    "search_element.send_keys(INSTA_USER)  #enter the text in arg you want to search"
   ]
  },
  {
   "cell_type": "code",
   "execution_count": 334,
   "metadata": {},
   "outputs": [],
   "source": [
    "time.sleep(2)\n",
    "search_element=browser.find_element_by_name('password') #since the name of search area element in tag is password\n",
    "search_element.send_keys(INSTA_PASS)  #enter the text in arg you want to search"
   ]
  },
  {
   "cell_type": "code",
   "execution_count": 335,
   "metadata": {},
   "outputs": [],
   "source": [
    "time.sleep(1)\n",
    "submit_element=browser.find_element_by_css_selector(\"button[type='submit']\")# locating the search button by css selector with attribute type\n",
    "submit_element.click()"
   ]
  },
  {
   "cell_type": "markdown",
   "metadata": {},
   "source": [
    "### Turn off the notifications"
   ]
  },
  {
   "cell_type": "code",
   "execution_count": 336,
   "metadata": {
    "scrolled": true
   },
   "outputs": [
    {
     "name": "stdout",
     "output_type": "stream",
     "text": [
      "[]\n"
     ]
    }
   ],
   "source": [
    "\n",
    "time.sleep(2)\n",
    "\n",
    "not_now_button=\"//button[contains(text(),'Not Now')]\"\n",
    "click_not_now=browser.find_elements_by_xpath(not_now_button)\n",
    "print(click_not_now)\n",
    "for btn in click_not_now:\n",
    "    time.sleep(2)\n",
    "    btn.click()"
   ]
  },
  {
   "cell_type": "code",
   "execution_count": 337,
   "metadata": {},
   "outputs": [
    {
     "data": {
      "text/plain": [
       "\"\\nbody_el=browser.find_element_by_css_selector('body')\\nhtml_text=body_el.get_attribute('innerHTML')\\n\""
      ]
     },
     "execution_count": 337,
     "metadata": {},
     "output_type": "execute_result"
    }
   ],
   "source": [
    "'''\n",
    "body_el=browser.find_element_by_css_selector('body')\n",
    "html_text=body_el.get_attribute('innerHTML')\n",
    "'''"
   ]
  },
  {
   "cell_type": "markdown",
   "metadata": {},
   "source": [
    "### Search for account using username"
   ]
  },
  {
   "cell_type": "code",
   "execution_count": 343,
   "metadata": {},
   "outputs": [],
   "source": [
    "time.sleep(2)\n",
    "searchbox = WebDriverWait(browser, 30).until(EC.visibility_of_element_located((By.XPATH, \"//input[@placeholder='Search']\")))\n",
    "time.sleep(2)\n",
    "#searchbox.click()\n",
    "browser.execute_script(\"arguments[0].click();\", searchbox)\n",
    "searchbox.send_keys('the rock')\n",
    "time.sleep(2)\n",
    "searchbox.send_keys(Keys.DOWN)\n",
    "searchbox.send_keys(Keys.RETURN)"
   ]
  },
  {
   "cell_type": "markdown",
   "metadata": {},
   "source": [
    "### Follow that account"
   ]
  },
  {
   "cell_type": "code",
   "execution_count": 339,
   "metadata": {},
   "outputs": [],
   "source": [
    "def click_to_follow(browser):\n",
    "    follow_button=\"//button[contains(text(),'Follow')][not(contains(text(),'Following'))][not(contains(text(),'Followers'))]\"\n",
    "    click_follow=browser.find_elements_by_xpath(follow_button)\n",
    "    # print(click_follow)\n",
    "    for btn in click_follow:\n",
    "        time.sleep(2)\n",
    "        btn.click()\n",
    "click_to_follow(browser)"
   ]
  },
  {
   "cell_type": "code",
   "execution_count": 340,
   "metadata": {},
   "outputs": [
    {
     "name": "stdout",
     "output_type": "stream",
     "text": [
      "https://www.instagram.com/\n"
     ]
    }
   ],
   "source": [
    "time.sleep(2)\n",
    "print(browser.current_url)"
   ]
  },
  {
   "cell_type": "code",
   "execution_count": 289,
   "metadata": {},
   "outputs": [],
   "source": [
    "\n"
   ]
  },
  {
   "cell_type": "markdown",
   "metadata": {},
   "source": [
    "### Opening the 1st post"
   ]
  },
  {
   "cell_type": "code",
   "execution_count": 344,
   "metadata": {},
   "outputs": [
    {
     "name": "stdout",
     "output_type": "stream",
     "text": [
      "24\n"
     ]
    }
   ],
   "source": [
    "browser.get('https://www.instagram.com/therock/')\n",
    "post_xpath=\"//a[contains(@href,'/p/')]\"\n",
    "post_links=browser.find_elements_by_xpath(post_xpath)\n",
    "link=None\n",
    "print(len(post_links))\n",
    "if len(post_links)>0:\n",
    "    link=post_links[0]\n",
    "    \n",
    "if link!=None:\n",
    "    u=link.get_attribute('href')\n",
    "    browser.get(u)\n"
   ]
  },
  {
   "cell_type": "code",
   "execution_count": 327,
   "metadata": {},
   "outputs": [],
   "source": [
    "browser.get('https://www.instagram.com/therock/')\n",
    "video_ele=browser.find_elements_by_xpath(\"//video\")\n",
    "img_ele=browser.find_elements_by_xpath(\"//img\")"
   ]
  },
  {
   "cell_type": "markdown",
   "metadata": {},
   "source": [
    "### Downloading The post"
   ]
  },
  {
   "cell_type": "code",
   "execution_count": 314,
   "metadata": {},
   "outputs": [
    {
     "name": "stdout",
     "output_type": "stream",
     "text": [
      "https://instagram.fbho1-2.fna.fbcdn.net/v/t50.2886-16/96287891_690017874903223_8989901250556732863_n.mp4?_nc_ht=instagram.fbho1-2.fna.fbcdn.net&_nc_cat=1&_nc_ohc=Pa_zSFfIl-QAX9L-Ivo&oe=5EB5F7F9&oh=8e300881e5e971afb9a5eddc3588d195\n"
     ]
    }
   ],
   "source": [
    "content_dir=os.path.join(BASE_DIR,'content')\n",
    "os.makedirs(content_dir,exist_ok=True)\n",
    "def scrape_and_save(ele):\n",
    "    for i in ele:\n",
    "        print(i.get_attribute('src'))\n",
    "        url=i.get_attribute('src')\n",
    "        base_url=urlparse(url).path\n",
    "        fname=os.path.basename(base_url)\n",
    "        file_path=os.path.join(content_dir,fname)\n",
    "        with requests.get(url,stream=True) as r:\n",
    "            try:\n",
    "                r.raise_for_status()\n",
    "            except:\n",
    "                continue\n",
    "            with open(file_path,'wb') as f: \n",
    "                for data in r.iter_content():\n",
    "                    if data:\n",
    "                        f.write(data )\n",
    "            \n",
    "scrape_and_save(video_ele)           "
   ]
  },
  {
   "cell_type": "markdown",
   "metadata": {},
   "source": [
    "### Liking the post"
   ]
  },
  {
   "cell_type": "code",
   "execution_count": 345,
   "metadata": {},
   "outputs": [],
   "source": [
    "def automate_likes(browser):\n",
    "    like_heart_svg_xpath = \"//*[contains(@aria-label, 'Like')]\"\n",
    "    all_like_hearts_elements = browser.find_elements_by_xpath(like_heart_svg_xpath)\n",
    "    max_heart_h = -1\n",
    "    for heart_el in all_like_hearts_elements:\n",
    "        h = heart_el.get_attribute(\"height\")\n",
    "        current_h = int(h)\n",
    "        if current_h > max_heart_h:\n",
    "            max_heart_h = current_h\n",
    "    all_like_hearts_elements = browser.find_elements_by_xpath(like_heart_svg_xpath)\n",
    "    for heart_el in all_like_hearts_elements:\n",
    "        h = heart_el.get_attribute(\"height\")\n",
    "        if h == max_heart_h or h == f\"{max_heart_h}\":\n",
    "            parent_button = heart_el.find_element_by_xpath('..')\n",
    "            time.sleep(2)\n",
    "            try:\n",
    "                parent_button.click()\n",
    "            except:\n",
    "                pass"
   ]
  },
  {
   "cell_type": "code",
   "execution_count": 346,
   "metadata": {},
   "outputs": [],
   "source": [
    "automate_likes(browser)"
   ]
  },
  {
   "cell_type": "code",
   "execution_count": null,
   "metadata": {},
   "outputs": [],
   "source": []
  }
 ],
 "metadata": {
  "kernelspec": {
   "display_name": "Python 3",
   "language": "python",
   "name": "python3"
  },
  "language_info": {
   "codemirror_mode": {
    "name": "ipython",
    "version": 3
   },
   "file_extension": ".py",
   "mimetype": "text/x-python",
   "name": "python",
   "nbconvert_exporter": "python",
   "pygments_lexer": "ipython3",
   "version": "3.8.2"
  }
 },
 "nbformat": 4,
 "nbformat_minor": 4
}
